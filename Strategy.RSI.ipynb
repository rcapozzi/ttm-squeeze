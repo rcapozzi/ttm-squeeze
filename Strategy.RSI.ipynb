{
 "cells": [
  {
   "cell_type": "code",
   "execution_count": 3,
   "id": "ba1cdd1a",
   "metadata": {},
   "outputs": [],
   "source": [
    "import time\n",
    "import datetime as dt\n",
    "import pandas as pd\n",
    "import pandas_ta as ta\n",
    "import yfinance as yf\n",
    "import matplotlib.pyplot as plt\n",
    "import os\n",
    "pd.options.mode.chained_assignment = None\n",
    "pd.options.display.float_format = '{:,.2f}'.format"
   ]
  },
  {
   "cell_type": "code",
   "execution_count": null,
   "id": "f89d7e9d",
   "metadata": {},
   "outputs": [],
   "source": [
    "tickersdf = pd.read_html('https://en.wikipedia.org/wiki/List_of_S%26P_500_companies')[0]\n",
    "tickers =  [i.replace('.','-') for i in tickersdf.Symbol.to_list()]\n",
    "# Remove offending symbols as neede\n",
    "tickers.remove('WRK')"
   ]
  },
  {
   "cell_type": "code",
   "execution_count": null,
   "id": "8a413c9f",
   "metadata": {},
   "outputs": [],
   "source": [
    "def plot_signals(df):\n",
    "    frame = df.copy()\n",
    "    plt.figure(figsize=(20,5))\n",
    "    plt.scatter(frame.loc[buy].index, frame.loc[buy]['open'], marker='^',c='g')\n",
    "    plt.scatter(frame.loc[sell].index, frame.loc[sell]['open'], marker='*',c='r')\n",
    "    plt.plot(frame['close'], alpha=0.7)"
   ]
  },
  {
   "cell_type": "code",
   "execution_count": null,
   "id": "b25e49c1-58c1-450a-8e08-b2b490e74e28",
   "metadata": {},
   "outputs": [],
   "source": [
    "%run -n  rsi_momo\n",
    "#configs = enumerate_params()\n",
    "params = [{'rsi_entry': 35, 'rsi_exit': 40, 'sma_period': 150, 'stop_loss_pct': 10, 'max_trade_days': 16, 'id': 893, 'trade_overlap': 9577, 'trades': 25590, 'results': 'results/trades.893.csv.gz'},\n",
    "        {'rsi_entry': 35, 'rsi_exit': 45, 'sma_period': 200, 'stop_loss_pct': 10, 'max_trade_days': 4, 'id': 959},\n",
    "        {'rsi_entry': 25, 'rsi_exit': 35, 'sma_period': 150, 'stop_loss_pct': 10, 'max_trade_days': 12, 'id': 1322 },\n",
    "        ]\n",
    "symbol = 'ZION'\n",
    "udf = {symbol: load_symbol(symbol)}\n",
    "uberdf_enrich(udf,params)\n",
    "df = rsi_momo_strategy(symbol, udf[symbol], params[0])\n",
    "df"
   ]
  },
  {
   "cell_type": "code",
   "execution_count": null,
   "id": "4cde6463-c320-400b-940b-a2a038706b61",
   "metadata": {},
   "outputs": [],
   "source": []
  }
 ],
 "metadata": {
  "kernelspec": {
   "display_name": "Python 3",
   "language": "python",
   "name": "python3"
  },
  "language_info": {
   "codemirror_mode": {
    "name": "ipython",
    "version": 3
   },
   "file_extension": ".py",
   "mimetype": "text/x-python",
   "name": "python",
   "nbconvert_exporter": "python",
   "pygments_lexer": "ipython3",
   "version": "3.8.10"
  }
 },
 "nbformat": 4,
 "nbformat_minor": 5
}
